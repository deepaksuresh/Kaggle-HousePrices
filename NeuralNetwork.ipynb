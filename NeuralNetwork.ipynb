{
 "cells": [
  {
   "cell_type": "code",
   "execution_count": 1,
   "metadata": {
    "collapsed": false
   },
   "outputs": [],
   "source": [
    "import numpy as np\n",
    "import pandas as pd \n",
    "import sys\n",
    "from time import time\n",
    "import seaborn as sns\n",
    "#from numpy.core.umath_tests import matrix_multiply\n",
    "from sklearn.model_selection import train_test_split\n",
    "#from numpy.core.umath_tests import inner1d\n",
    "import random\n",
    "import matplotlib.pyplot as plt\n",
    "%matplotlib inline\n",
    "%config InlineBackend.figure_format = 'retina'"
   ]
  },
  {
   "cell_type": "code",
   "execution_count": 2,
   "metadata": {
    "collapsed": true
   },
   "outputs": [],
   "source": [
    "data1=pd.read_csv('train_new.csv',na_values=['NaN'],keep_default_na=False)\n",
    "data2=pd.read_csv('test.csv',na_values=['NaN'],keep_default_na=False)"
   ]
  },
  {
   "cell_type": "code",
   "execution_count": 3,
   "metadata": {
    "collapsed": true
   },
   "outputs": [],
   "source": [
    "train_target = data1['SalePrice']\n",
    "train_cols = data1.columns[:-1]\n",
    "train_set = data1[train_cols]\n",
    "data = pd.concat([train_set,data2])"
   ]
  },
  {
   "cell_type": "code",
   "execution_count": 4,
   "metadata": {
    "collapsed": false
   },
   "outputs": [],
   "source": [
    "cats=set(['SaleCondition','OverallCond','LotConfig','MSSubClass','MSZoning','Street','Alley','LotShape','LandContour','Utilities','LotConfig','LandSlope','Neighborhood',\\\n",
    "'Condition1','Condition2','BldgType','HouseStyle','RoofStyle','RoofMatl','Exterior1st','Exterior2nd','MasVnrType',\\\n",
    "'ExterQual','ExterCond','Foundation','BsmtQual','BsmtCond','BsmtExposure','BsmtFinType1','BsmtFinType2','Heating','HeatingQC',\\\n",
    "'CentralAir','Electrical','KitchenQual','Functional','FireplaceQu','GarageType','GarageFinish','GarageQual',\\\n",
    "'GarageCond','PavedDrive','SaleCondition','SaleType'])\n",
    "bins = ['YearBuilt','GarageYrBlt','PoolQC','Fence']\n",
    "#to_drop = ['YearRemodAdd','PoolQC','MoSold','Fence','MiscFeature','MiscVal','YrSold']\n",
    "to_drop = ['YearRemodAdd','MoSold','MiscFeature','MiscVal','YrSold']\n",
    "data = data.drop(to_drop,axis=1)"
   ]
  },
  {
   "cell_type": "code",
   "execution_count": 5,
   "metadata": {
    "collapsed": false
   },
   "outputs": [],
   "source": [
    "flags = data.loc[:,'LotFrontage']=='NA'\n",
    "data.loc[flags,'LotFrontage']=0\n",
    "flags = data.loc[:,'MasVnrArea']=='NA'\n",
    "data.loc[flags,'MasVnrArea']=0\n",
    "flags = data.loc[:,'BsmtFinSF1']=='NA'\n",
    "data.loc[flags,'BsmtFinSF1']=0\n",
    "flags = data.loc[:,'BsmtFinSF2']=='NA'\n",
    "data.loc[flags,'BsmtFinSF2']=0\n",
    "flags = data.loc[:,'BsmtUnfSF']=='NA'\n",
    "data.loc[flags,'BsmtUnfSF']=0\n",
    "flags = data.loc[:,'TotalBsmtSF']=='NA'\n",
    "data.loc[flags,'TotalBsmtSF']=0\n",
    "flags = data.loc[:,'BsmtFullBath']=='NA'\n",
    "data.loc[flags,'BsmtFullBath']=0\n",
    "flags = data.loc[:,'BsmtHalfBath']=='NA'\n",
    "data.loc[flags,'BsmtHalfBath']=0\n",
    "flags = data.loc[:,'GarageCars']=='NA'\n",
    "data.loc[flags,'GarageCars']=0\n",
    "flags = data.loc[:,'GarageArea']=='NA'\n",
    "data.loc[flags,'GarageArea']=0"
   ]
  },
  {
   "cell_type": "code",
   "execution_count": 6,
   "metadata": {
    "collapsed": false
   },
   "outputs": [],
   "source": [
    "for each in data.columns:\n",
    "    if each not in cats and each not in bins and each!='Id'and each!='SalePrice':\n",
    "        data[each] = data[each].astype('int64')"
   ]
  },
  {
   "cell_type": "code",
   "execution_count": 7,
   "metadata": {
    "collapsed": false
   },
   "outputs": [],
   "source": [
    "scaled_features = {}\n",
    "for each in data.columns:\n",
    "    if each not in cats and each not in bins and each!='Id':\n",
    "        mean, std = data[each].mean(), data[each].std()\n",
    "        scaled_features[each] = [mean, std]\n",
    "        data.loc[:, each] = (data[each] - mean)/std\n",
    "mean, std = train_target.mean(), train_target.std()\n",
    "scaled_features['SalePrice'] = [mean, std]\n",
    "train_target = (train_target - mean)/std\n",
    "\n"
   ]
  },
  {
   "cell_type": "code",
   "execution_count": 8,
   "metadata": {
    "collapsed": false
   },
   "outputs": [
    {
     "data": {
      "text/plain": [
       "<matplotlib.axes._subplots.AxesSubplot at 0x7faac5dc7f90>"
      ]
     },
     "execution_count": 8,
     "metadata": {},
     "output_type": "execute_result"
    },
    {
     "data": {
      "image/png": "[encoded data removed]",
      "text/plain": [
       "<matplotlib.figure.Figure at 0x7faac5dc7fd0>"
      ]
     },
     "metadata": {
      "image/png": {
       "height": 262,
       "width": 370
      }
     },
     "output_type": "display_data"
    }
   ],
   "source": [
    "plt.figure()\n",
    "plt.hist(train_target, 50, normed=1, facecolor='green', alpha=0.75)\n",
    "plt.xlabel('SalePrice')\n",
    "plt.grid(True)\n",
    "#plt.figure()\n",
    "sns.distplot(train_target, hist=False, rug=False,color=\"r\")"
   ]
  },
  {
   "cell_type": "code",
   "execution_count": null,
   "metadata": {
    "collapsed": false
   },
   "outputs": [],
   "source": [
    "est_levels = data.Exterior1st.value_counts().keys()\n",
    "bsmtfin2_levels = data.BsmtFinType2.value_counts().keys()\n",
    "bsmtfin1_levels = data.BsmtFinType1.value_counts().keys()\n",
    "cond1_levels = data.Condition1.value_counts().keys()\n",
    "cond2_levels = data.Condition2.value_counts().keys()"
   ]
  },
  {
   "cell_type": "code",
   "execution_count": null,
   "metadata": {
    "collapsed": false
   },
   "outputs": [],
   "source": [
    "for each in cats:\n",
    "    dummies = pd.get_dummies(data[each], prefix=each, drop_first=False)\n",
    "    data = pd.concat([data, dummies], axis=1)\n",
    "data = data.drop(list(cats), axis=1)"
   ]
  },
  {
   "cell_type": "code",
   "execution_count": null,
   "metadata": {
    "collapsed": false
   },
   "outputs": [],
   "source": [
    "#Merge similar columns to one\n",
    "#'Exterior1st','Exterior2nd','BsmtFinType1','BsmtFinType2','Condition1','Condition2'\n",
    "#delete Exterior1st_NA and Exterior2nd_NA, merge others\n",
    "#BsmtFinType1,2_NA\n"
   ]
  },
  {
   "cell_type": "code",
   "execution_count": null,
   "metadata": {
    "collapsed": false
   },
   "outputs": [],
   "source": [
    "for level in cond2_levels:\n",
    "    cond1 = 'Condition1_'+level\n",
    "    cond2 = 'Condition2_'+level\n",
    "    data.loc[:,cond1] += data.loc[:,cond2]\n",
    "    data = data.drop([cond2],axis=1)"
   ]
  },
  {
   "cell_type": "code",
   "execution_count": null,
   "metadata": {
    "collapsed": false
   },
   "outputs": [],
   "source": [
    "for level in bsmtfin1_levels:\n",
    "    cond1 = 'BsmtFinType1_'+level\n",
    "    cond2 = 'BsmtFinType2_'+level\n",
    "    data.loc[:,cond1] += data.loc[:,cond2]\n",
    "    data = data.drop([cond2],axis=1)"
   ]
  },
  {
   "cell_type": "code",
   "execution_count": null,
   "metadata": {
    "collapsed": false
   },
   "outputs": [],
   "source": [
    "for level in est_levels:\n",
    "    cond1 = 'Exterior1st_'+level\n",
    "    cond2 = 'Exterior2nd_'+level\n",
    "    if level =='CemntBd':\n",
    "        cond2 = 'Exterior2nd_CmentBd'\n",
    "    if level =='WdShing':\n",
    "        cond2 = 'Exterior2nd_Wd Shng'\n",
    "    if level == 'BrkComm':\n",
    "        cond2 = 'Exterior2nd_Brk Cmn'\n",
    "    data.loc[:,cond1] += data.loc[:,cond2]\n",
    "    data = data.drop([cond2],axis=1)"
   ]
  },
  {
   "cell_type": "code",
   "execution_count": null,
   "metadata": {
    "collapsed": false
   },
   "outputs": [],
   "source": [
    "data = data.drop(['BsmtFinType1_','Exterior2nd_Other','BsmtFinType1_NA','Exterior1st_NA'], axis=1)"
   ]
  },
  {
   "cell_type": "code",
   "execution_count": null,
   "metadata": {
    "collapsed": false
   },
   "outputs": [],
   "source": [
    "flags = (data.loc[:,'GarageYrBlt']==0.0)|(data.loc[:,'GarageYrBlt']=='NA')|(data.loc[:,'GarageYrBlt']==2207)\n",
    "data.loc[flags,'GarageYrBlt']=0\n",
    "data['GarageYrBlt'] = data['GarageYrBlt'].astype('int64')"
   ]
  },
  {
   "cell_type": "code",
   "execution_count": null,
   "metadata": {
    "collapsed": false
   },
   "outputs": [],
   "source": [
    "for i in range(0,100,10):\n",
    "    s= 'GarageYr'+str(i)+'_'+str(i+9)\n",
    "    lower = 1900+i\n",
    "    upper = 1900+i+10\n",
    "    data[s] = (data.loc[:,'GarageYrBlt']>=lower) & (data.loc[:,'GarageYrBlt']<upper)\n",
    "data['GarageYr1900'] = (data.loc[:,'GarageYrBlt']<1990)\n",
    "data['GarageYr2000'] = (data.loc[:,'GarageYrBlt']>1999)\n",
    "data=data.drop('GarageYrBlt',axis=1)"
   ]
  },
  {
   "cell_type": "code",
   "execution_count": null,
   "metadata": {
    "collapsed": false
   },
   "outputs": [],
   "source": [
    "for i in range(0,100,10):\n",
    "    s= 'bet'+str(i)+'_'+str(i+9)\n",
    "    lower = 1900+i\n",
    "    upper = 1900+i+10\n",
    "    data[s] = (data.loc[:,'YearBuilt']>=lower) & (data.loc[:,'YearBuilt']<upper)\n",
    "data['before1900'] = (data.loc[:,'YearBuilt']<1990)\n",
    "data['after2000'] = (data.loc[:,'YearBuilt']>1999)\n",
    "data=data.drop('YearBuilt',axis=1)"
   ]
  },
  {
   "cell_type": "code",
   "execution_count": null,
   "metadata": {
    "collapsed": false
   },
   "outputs": [],
   "source": [
    "def sigmoid(z):\n",
    "    return 1.0/(1.0+np.exp(-z))\n",
    "\n",
    "def sigmoidGradient(x):\n",
    "    return x*(1-x)\n",
    "\n",
    "class Network():\n",
    "    \n",
    "    def __init__(self,size,learning_rate):\n",
    "        self.sizes = size\n",
    "        self.num_layers = len(size)\n",
    "        self.biases = [np.random.normal(0,b**-0.5,(1,b)) for b in self.sizes[1:]] \n",
    "        self.weights = [np.random.normal(0,x**-0.5,(x,y)) for x,y in zip(self.sizes[:-1],self.sizes[1:])]\n",
    "        self.learning_rate = learning_rate\n",
    "        self.activation = sigmoid\n",
    "        self.gradient = sigmoidGradient\n",
    "        \n",
    "    def FeedForward(self,batch):\n",
    "        \"\"\"Performs forward propagation for a batch of training data\n",
    "           returns a list of activations and gradients\"\"\"\n",
    "        activations =[batch]\n",
    "        gradients=[]\n",
    "        inputs = batch\n",
    "        \n",
    "        for i in range(self.num_layers-1):\n",
    "            if i== self.num_layers-2:  #Regression problem, No need of sigmoid for this layer\n",
    "                z=np.einsum('ijk,kl->ijl',inputs,self.weights[i])+self.biases[i]\n",
    "                #zs.append(z)\n",
    "                activations.append(z)\n",
    "                gradients.append(1) #gradient =1: f(X)=X\n",
    "                break  \n",
    "            z=np.einsum('ijk,kl->ijl',inputs,self.weights[i])+self.biases[i]\n",
    "            activation = self.activation(z)\n",
    "            inputs=activation\n",
    "            activations.append(activation) \n",
    "            gradient = self.gradient(activation)\n",
    "            gradients.append(self.gradient(activation))\n",
    "        return gradients,activations\n",
    "    \n",
    "    def train(self,batch,target):\n",
    "        m = batch.shape[0]\n",
    "        del_b = [np.stack([np.zeros(b.shape)]*m) for b in self.biases]\n",
    "        del_w = [np.stack([np.zeros(w.shape)]*m) for w in self.weights]\n",
    "        \n",
    "        #Feed forward\n",
    "        gradients,activations = self.FeedForward(batch)\n",
    "        \n",
    "        #Back propagation\n",
    "        delta = (target-activations[-1])\n",
    "        del_b[-1] = delta   \n",
    "        del_w[-1] = np.einsum('ijk,ikl->ilj',delta,activations[-2]) \n",
    "        \n",
    "        for i in range(2,self.num_layers):\n",
    "            delta = np.einsum('ijk,lk->ijl',delta,self.weights[-i+1])*gradients[-i]\n",
    "            del_b[-i] = delta\n",
    "            del_w[-i] = np.einsum('ijk,ijl->ilk',delta,activations[-i-1])\n",
    "            #with open('/home/dpk/WtUp2','wb') as f:np.savetxt(f,temp)\n",
    "\n",
    "        for i in range(len(self.weights)):\n",
    "            b_shape = self.biases[i].shape\n",
    "            w_shape = self.weights[i].shape\n",
    "            del_b_cum = (self.learning_rate*del_b[i].sum(axis=(0,1))/m).reshape(b_shape)   #summing up and taking average of updates\n",
    "            del_w_cum = self.learning_rate*del_w[i].sum(axis=0)/m\n",
    "            self.biases[i] += del_b_cum\n",
    "            self.weights[i] = (1-(self.learning_rate*.1/1460))*self.weights[i]+del_w_cum\n",
    "    \n",
    "    def SGD(self,data,targets,epochs,mini_batch_size):\n",
    "        \"\"\"Stochastic Gradient Descent: Performs update on biases and weights\"\"\"\n",
    "        n = len(data)\n",
    "        for j in xrange(epochs):\n",
    "            mini_batches = [data[k:k+mini_batch_size] for k in xrange(0, n, mini_batch_size)]\n",
    "            target_list = [targets[k:k+mini_batch_size] for k in xrange(0, n, mini_batch_size)] \n",
    "            for mini_batch,target in zip(mini_batches,target_list):     #update parameters for each mini-batch\n",
    "                #mini_batch = mini_batch.reshape(shape)\n",
    "                self.train(mini_batch, target)\n",
    "        "
   ]
  },
  {
   "cell_type": "code",
   "execution_count": null,
   "metadata": {
    "collapsed": false
   },
   "outputs": [],
   "source": [
    "data = data.drop(['Id'],axis=1)\n",
    "data= data.astype(float)\n",
    "#data=data.apply(pd.to_numeric)\n",
    "test=data.tail(len(data)-1460)\n",
    "train = data.head(1460)\n",
    "X_train, X_test, y_train, y_test = train_test_split(train, train_target, test_size=0.15, random_state=42)\n",
    "#X_train, X_test, y_train, y_test = X_train.as_matrix(), X_test.as_matrix(), y_train.as_matrix(), y_test.as_matrix()\n",
    "#train = train.reshape(-1,1,313)\n",
    "X_train=X_train.as_matrix()\n",
    "X_test=X_test.as_matrix()\n",
    "y_test=y_test.as_matrix()\n",
    "y_train=y_train.as_matrix()"
   ]
  },
  {
   "cell_type": "code",
   "execution_count": null,
   "metadata": {
    "collapsed": false
   },
   "outputs": [],
   "source": [
    "X_train = X_train.reshape((-1,1,313))\n",
    "y_train = y_train.reshape((-1,1,1))"
   ]
  },
  {
   "cell_type": "code",
   "execution_count": null,
   "metadata": {
    "collapsed": true
   },
   "outputs": [],
   "source": [
    "#n =Network([313,250,150,75,1],0.01)\n",
    "n =Network([313,200,100,1],0.01)"
   ]
  },
  {
   "cell_type": "code",
   "execution_count": null,
   "metadata": {
    "collapsed": false
   },
   "outputs": [],
   "source": [
    "t=time()\n",
    "print \"Started at \",t"
   ]
  },
  {
   "cell_type": "code",
   "execution_count": null,
   "metadata": {
    "collapsed": false
   },
   "outputs": [],
   "source": [
    "n.SGD(X_train,y_train,1000,100)"
   ]
  },
  {
   "cell_type": "code",
   "execution_count": null,
   "metadata": {
    "collapsed": false
   },
   "outputs": [],
   "source": [
    "t2 = time()\n",
    "print \"Finished at \",t2,\" took\",(t2-t)/60"
   ]
  },
  {
   "cell_type": "code",
   "execution_count": null,
   "metadata": {
    "collapsed": false
   },
   "outputs": [],
   "source": [
    "X_test=test.as_matrix()\n",
    "X_test=X_test.reshape((-1,1, 313))\n",
    "g,a=n.FeedForward(X_test)"
   ]
  },
  {
   "cell_type": "code",
   "execution_count": null,
   "metadata": {
    "collapsed": false
   },
   "outputs": [],
   "source": [
    "vals = a[-1]*scaled_features['SalePrice'][1]+scaled_features['SalePrice'][0]"
   ]
  },
  {
   "cell_type": "code",
   "execution_count": null,
   "metadata": {
    "collapsed": false
   },
   "outputs": [],
   "source": [
    "vals[:10]"
   ]
  },
  {
   "cell_type": "code",
   "execution_count": null,
   "metadata": {
    "collapsed": false
   },
   "outputs": [],
   "source": [
    "vals = vals.reshape((1459,))"
   ]
  },
  {
   "cell_type": "code",
   "execution_count": null,
   "metadata": {
    "collapsed": false
   },
   "outputs": [],
   "source": [
    "results = pd.DataFrame({'Id':np.array(range(1459,2920)),'SalePrice':vals},index=range(1459),columns=['ID','SalePrice'])"
   ]
  },
  {
   "cell_type": "code",
   "execution_count": null,
   "metadata": {
    "collapsed": false
   },
   "outputs": [],
   "source": [
    "results.to_csv('/home/dpk/LinReg/NeuralCheck6.csv',index = False)"
   ]
  },
  {
   "cell_type": "code",
   "execution_count": null,
   "metadata": {
    "collapsed": false
   },
   "outputs": [],
   "source": [
    "for i in range(0,101,10):\n",
    "    print i"
   ]
  }
 ],
 "metadata": {
  "anaconda-cloud": {},
  "kernelspec": {
   "display_name": "Python [default]",
   "language": "python",
   "name": "python2"
  },
  "language_info": {
   "codemirror_mode": {
    "name": "ipython",
    "version": 2
   },
   "file_extension": ".py",
   "mimetype": "text/x-python",
   "name": "python",
   "nbconvert_exporter": "python",
   "pygments_lexer": "ipython2",
   "version": "2.7.12"
  }
 },
 "nbformat": 4,
 "nbformat_minor": 1
}
